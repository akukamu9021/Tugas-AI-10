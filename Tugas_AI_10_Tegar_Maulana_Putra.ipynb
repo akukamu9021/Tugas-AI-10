{
  "nbformat": 4,
  "nbformat_minor": 0,
  "metadata": {
    "colab": {
      "provenance": []
    },
    "kernelspec": {
      "name": "python3",
      "display_name": "Python 3"
    },
    "language_info": {
      "name": "python"
    }
  },
  "cells": [
    {
      "cell_type": "markdown",
      "source": [
        "**TEGAR MAULANA PUTRA**\n",
        "\n",
        "---\n",
        "\n",
        "**20230040336**\n",
        "\n",
        "---\n",
        "\n",
        "**TI23E**\n"
      ],
      "metadata": {
        "id": "lkkwepIb0iBn"
      }
    },
    {
      "cell_type": "code",
      "execution_count": 1,
      "metadata": {
        "id": "MAVu87YSuZOD"
      },
      "outputs": [],
      "source": [
        "import random\n",
        "import math\n"
      ]
    },
    {
      "cell_type": "code",
      "source": [
        "# Data kota dan koordinatnya (X, Y)\n",
        "cities = {\n",
        "    'A': (0, 0),\n",
        "    'B': (1, 5),\n",
        "    'C': (5, 2),\n",
        "    'D': (6, 6),\n",
        "    'E': (8, 3)\n",
        "}\n",
        "city_list = list(cities.keys())"
      ],
      "metadata": {
        "id": "0BnzeICl1GqH"
      },
      "execution_count": 2,
      "outputs": []
    },
    {
      "cell_type": "code",
      "source": [
        "# Hitung jarak antar dua kota\n",
        "def distance(city1, city2):\n",
        "    x1, y1 = cities[city1]\n",
        "    x2, y2 = cities[city2]\n",
        "    return math.sqrt((x1 - x2) ** 2 + (y1 - y2) ** 2)"
      ],
      "metadata": {
        "id": "H31H0P6x1G0e"
      },
      "execution_count": 4,
      "outputs": []
    },
    {
      "cell_type": "code",
      "source": [
        "# Representasi kromosom: urutan kunjungan kota (permutasi)\n",
        "def create_individual():\n",
        "    path = city_list[:]\n",
        "    random.shuffle(path)\n",
        "    return path"
      ],
      "metadata": {
        "id": "LA_O1hrm1G3Q"
      },
      "execution_count": 5,
      "outputs": []
    },
    {
      "cell_type": "code",
      "source": [
        "# Fungsi fitness: total jarak dari rute (semakin kecil, semakin baik)\n",
        "def fitness(individual):\n",
        "    total_distance = 0\n",
        "    for i in range(len(individual)):\n",
        "        city_from = individual[i]\n",
        "        city_to = individual[(i + 1) % len(individual)]  # kembali ke kota asal\n",
        "        total_distance += distance(city_from, city_to)\n",
        "    return total_distance"
      ],
      "metadata": {
        "id": "QH-cRARJ1G5_"
      },
      "execution_count": 6,
      "outputs": []
    },
    {
      "cell_type": "code",
      "source": [
        "# Seleksi: memilih dua individu terbaik\n",
        "def selection(population):\n",
        "    sorted_population = sorted(population, key=lambda ind: fitness(ind))\n",
        "    return sorted_population[:2]"
      ],
      "metadata": {
        "id": "WBD0anSx1nEA"
      },
      "execution_count": 7,
      "outputs": []
    },
    {
      "cell_type": "code",
      "source": [
        "# Crossover: Order Crossover (OX)\n",
        "def crossover(parent1, parent2):\n",
        "    start = random.randint(0, len(parent1) - 2)\n",
        "    end = random.randint(start + 1, len(parent1) - 1)\n",
        "    slice1 = parent1[start:end]\n",
        "    child1 = slice1 + [city for city in parent2 if city not in slice1]\n",
        "    slice2 = parent2[start:end]\n",
        "    child2 = slice2 + [city for city in parent1 if city not in slice2]\n",
        "    return child1, child2\n",
        ""
      ],
      "metadata": {
        "id": "N73EA9qT1nG_"
      },
      "execution_count": 8,
      "outputs": []
    },
    {
      "cell_type": "code",
      "source": [
        "# Mutasi: tukar posisi dua kota\n",
        "def mutate(individual):\n",
        "    i, j = random.sample(range(len(individual)), 2)\n",
        "    individual[i], individual[j] = individual[j], individual[i]\n",
        "    return individual"
      ],
      "metadata": {
        "id": "ZtDkTBga1nKH"
      },
      "execution_count": 9,
      "outputs": []
    },
    {
      "cell_type": "code",
      "source": [
        "# Algoritma Genetika utama\n",
        "def genetic_algorithm():\n",
        "    population_size = 10\n",
        "    generations = 100\n",
        "    population = [create_individual() for _ in range(population_size)]\n",
        "\n",
        "    for generation in range(generations):\n",
        "        new_population = []\n",
        "        for _ in range(population_size // 2):\n",
        "            parent1, parent2 = selection(population)\n",
        "            child1, child2 = crossover(parent1, parent2)\n",
        "            new_population.extend([mutate(child1), mutate(child2)])\n",
        "        population = new_population\n",
        "        best_individual = min(population, key=lambda ind: fitness(ind))\n",
        "        print(f\"Generasi {generation + 1}: {best_individual} | Total Jarak: {fitness(best_individual):.2f}\")\n",
        "\n",
        "    print(\"\\nRute Optimal:\")\n",
        "    print(\" → \".join(best_individual + [best_individual[0]]))\n",
        "    print(f\"Total Jarak: {fitness(best_individual):.2f}\")"
      ],
      "metadata": {
        "id": "Ff-A7BeF1G8o"
      },
      "execution_count": 10,
      "outputs": []
    },
    {
      "cell_type": "code",
      "source": [
        "genetic_algorithm()"
      ],
      "metadata": {
        "colab": {
          "base_uri": "https://localhost:8080/"
        },
        "id": "juYgwyrL1G--",
        "outputId": "045f9c32-4456-459b-8c91-aee22976388d"
      },
      "execution_count": 11,
      "outputs": [
        {
          "output_type": "stream",
          "name": "stdout",
          "text": [
            "Generasi 1: ['E', 'D', 'C', 'A', 'B'] | Total Jarak: 25.49\n",
            "Generasi 2: ['D', 'B', 'A', 'C', 'E'] | Total Jarak: 22.35\n",
            "Generasi 3: ['A', 'C', 'D', 'E', 'B'] | Total Jarak: 25.49\n",
            "Generasi 4: ['C', 'A', 'B', 'D', 'E'] | Total Jarak: 22.35\n",
            "Generasi 5: ['C', 'A', 'B', 'D', 'E'] | Total Jarak: 22.35\n",
            "Generasi 6: ['D', 'B', 'A', 'C', 'E'] | Total Jarak: 22.35\n",
            "Generasi 7: ['C', 'B', 'A', 'D', 'E'] | Total Jarak: 25.35\n",
            "Generasi 8: ['C', 'A', 'B', 'D', 'E'] | Total Jarak: 22.35\n",
            "Generasi 9: ['D', 'A', 'B', 'C', 'E'] | Total Jarak: 25.35\n",
            "Generasi 10: ['D', 'B', 'A', 'C', 'E'] | Total Jarak: 22.35\n",
            "Generasi 11: ['C', 'A', 'B', 'D', 'E'] | Total Jarak: 22.35\n",
            "Generasi 12: ['D', 'E', 'B', 'A', 'C'] | Total Jarak: 25.49\n",
            "Generasi 13: ['B', 'A', 'C', 'E', 'D'] | Total Jarak: 22.35\n",
            "Generasi 14: ['B', 'A', 'E', 'C', 'D'] | Total Jarak: 26.03\n",
            "Generasi 15: ['B', 'A', 'C', 'E', 'D'] | Total Jarak: 22.35\n",
            "Generasi 16: ['A', 'C', 'D', 'E', 'B'] | Total Jarak: 25.49\n",
            "Generasi 17: ['E', 'D', 'B', 'A', 'C'] | Total Jarak: 22.35\n",
            "Generasi 18: ['E', 'D', 'B', 'A', 'C'] | Total Jarak: 22.35\n",
            "Generasi 19: ['E', 'D', 'B', 'A', 'C'] | Total Jarak: 22.35\n",
            "Generasi 20: ['E', 'D', 'B', 'A', 'C'] | Total Jarak: 22.35\n",
            "Generasi 21: ['C', 'E', 'D', 'B', 'A'] | Total Jarak: 22.35\n",
            "Generasi 22: ['A', 'C', 'E', 'D', 'B'] | Total Jarak: 22.35\n",
            "Generasi 23: ['A', 'C', 'E', 'D', 'B'] | Total Jarak: 22.35\n",
            "Generasi 24: ['A', 'B', 'D', 'E', 'C'] | Total Jarak: 22.35\n",
            "Generasi 25: ['E', 'C', 'A', 'B', 'D'] | Total Jarak: 22.35\n",
            "Generasi 26: ['B', 'A', 'C', 'E', 'D'] | Total Jarak: 22.35\n",
            "Generasi 27: ['C', 'A', 'B', 'D', 'E'] | Total Jarak: 22.35\n",
            "Generasi 28: ['A', 'C', 'D', 'E', 'B'] | Total Jarak: 25.49\n",
            "Generasi 29: ['B', 'A', 'C', 'E', 'D'] | Total Jarak: 22.35\n",
            "Generasi 30: ['D', 'E', 'A', 'B', 'C'] | Total Jarak: 26.37\n",
            "Generasi 31: ['E', 'D', 'B', 'A', 'C'] | Total Jarak: 22.35\n",
            "Generasi 32: ['B', 'A', 'C', 'E', 'D'] | Total Jarak: 22.35\n",
            "Generasi 33: ['C', 'E', 'D', 'B', 'A'] | Total Jarak: 22.35\n",
            "Generasi 34: ['C', 'E', 'D', 'B', 'A'] | Total Jarak: 22.35\n",
            "Generasi 35: ['D', 'B', 'A', 'C', 'E'] | Total Jarak: 22.35\n",
            "Generasi 36: ['D', 'B', 'A', 'C', 'E'] | Total Jarak: 22.35\n",
            "Generasi 37: ['D', 'B', 'A', 'C', 'E'] | Total Jarak: 22.35\n",
            "Generasi 38: ['E', 'C', 'B', 'A', 'D'] | Total Jarak: 25.35\n",
            "Generasi 39: ['D', 'E', 'C', 'B', 'A'] | Total Jarak: 25.35\n",
            "Generasi 40: ['B', 'D', 'C', 'E', 'A'] | Total Jarak: 26.03\n",
            "Generasi 41: ['A', 'B', 'D', 'E', 'C'] | Total Jarak: 22.35\n",
            "Generasi 42: ['A', 'B', 'D', 'E', 'C'] | Total Jarak: 22.35\n",
            "Generasi 43: ['E', 'D', 'A', 'B', 'C'] | Total Jarak: 25.35\n",
            "Generasi 44: ['C', 'A', 'B', 'D', 'E'] | Total Jarak: 22.35\n",
            "Generasi 45: ['D', 'E', 'C', 'A', 'B'] | Total Jarak: 22.35\n",
            "Generasi 46: ['D', 'E', 'C', 'B', 'A'] | Total Jarak: 25.35\n",
            "Generasi 47: ['B', 'D', 'E', 'C', 'A'] | Total Jarak: 22.35\n",
            "Generasi 48: ['C', 'D', 'E', 'B', 'A'] | Total Jarak: 25.49\n",
            "Generasi 49: ['B', 'A', 'D', 'E', 'C'] | Total Jarak: 25.35\n",
            "Generasi 50: ['D', 'B', 'A', 'C', 'E'] | Total Jarak: 22.35\n",
            "Generasi 51: ['D', 'A', 'B', 'C', 'E'] | Total Jarak: 25.35\n",
            "Generasi 52: ['B', 'D', 'E', 'C', 'A'] | Total Jarak: 22.35\n",
            "Generasi 53: ['C', 'A', 'B', 'D', 'E'] | Total Jarak: 22.35\n",
            "Generasi 54: ['C', 'E', 'D', 'A', 'B'] | Total Jarak: 25.35\n",
            "Generasi 55: ['C', 'E', 'D', 'B', 'A'] | Total Jarak: 22.35\n",
            "Generasi 56: ['C', 'A', 'B', 'D', 'E'] | Total Jarak: 22.35\n",
            "Generasi 57: ['E', 'C', 'A', 'B', 'D'] | Total Jarak: 22.35\n",
            "Generasi 58: ['B', 'A', 'C', 'E', 'D'] | Total Jarak: 22.35\n",
            "Generasi 59: ['C', 'E', 'D', 'A', 'B'] | Total Jarak: 25.35\n",
            "Generasi 60: ['A', 'C', 'D', 'E', 'B'] | Total Jarak: 25.49\n",
            "Generasi 61: ['C', 'A', 'B', 'D', 'E'] | Total Jarak: 22.35\n",
            "Generasi 62: ['D', 'A', 'B', 'C', 'E'] | Total Jarak: 25.35\n",
            "Generasi 63: ['E', 'C', 'A', 'B', 'D'] | Total Jarak: 22.35\n",
            "Generasi 64: ['B', 'A', 'C', 'E', 'D'] | Total Jarak: 22.35\n",
            "Generasi 65: ['C', 'A', 'B', 'E', 'D'] | Total Jarak: 25.49\n",
            "Generasi 66: ['E', 'C', 'A', 'B', 'D'] | Total Jarak: 22.35\n",
            "Generasi 67: ['C', 'A', 'B', 'D', 'E'] | Total Jarak: 22.35\n",
            "Generasi 68: ['A', 'B', 'D', 'E', 'C'] | Total Jarak: 22.35\n",
            "Generasi 69: ['D', 'A', 'B', 'C', 'E'] | Total Jarak: 25.35\n",
            "Generasi 70: ['B', 'A', 'C', 'E', 'D'] | Total Jarak: 22.35\n",
            "Generasi 71: ['B', 'A', 'C', 'D', 'E'] | Total Jarak: 25.49\n",
            "Generasi 72: ['E', 'C', 'B', 'A', 'D'] | Total Jarak: 25.35\n",
            "Generasi 73: ['B', 'A', 'C', 'E', 'D'] | Total Jarak: 22.35\n",
            "Generasi 74: ['C', 'A', 'B', 'D', 'E'] | Total Jarak: 22.35\n",
            "Generasi 75: ['B', 'A', 'C', 'D', 'E'] | Total Jarak: 25.49\n",
            "Generasi 76: ['C', 'A', 'B', 'D', 'E'] | Total Jarak: 22.35\n",
            "Generasi 77: ['C', 'B', 'A', 'D', 'E'] | Total Jarak: 25.35\n",
            "Generasi 78: ['A', 'B', 'C', 'E', 'D'] | Total Jarak: 25.35\n",
            "Generasi 79: ['B', 'A', 'D', 'E', 'C'] | Total Jarak: 25.35\n",
            "Generasi 80: ['B', 'A', 'C', 'E', 'D'] | Total Jarak: 22.35\n",
            "Generasi 81: ['E', 'C', 'A', 'B', 'D'] | Total Jarak: 22.35\n",
            "Generasi 82: ['D', 'B', 'A', 'C', 'E'] | Total Jarak: 22.35\n",
            "Generasi 83: ['D', 'A', 'B', 'C', 'E'] | Total Jarak: 25.35\n",
            "Generasi 84: ['E', 'D', 'B', 'A', 'C'] | Total Jarak: 22.35\n",
            "Generasi 85: ['A', 'C', 'D', 'E', 'B'] | Total Jarak: 25.49\n",
            "Generasi 86: ['A', 'B', 'D', 'E', 'C'] | Total Jarak: 22.35\n",
            "Generasi 87: ['E', 'C', 'A', 'B', 'D'] | Total Jarak: 22.35\n",
            "Generasi 88: ['C', 'B', 'A', 'D', 'E'] | Total Jarak: 25.35\n",
            "Generasi 89: ['C', 'B', 'A', 'D', 'E'] | Total Jarak: 25.35\n",
            "Generasi 90: ['D', 'E', 'C', 'A', 'B'] | Total Jarak: 22.35\n",
            "Generasi 91: ['E', 'D', 'B', 'A', 'C'] | Total Jarak: 22.35\n",
            "Generasi 92: ['C', 'A', 'B', 'D', 'E'] | Total Jarak: 22.35\n",
            "Generasi 93: ['C', 'A', 'B', 'D', 'E'] | Total Jarak: 22.35\n",
            "Generasi 94: ['C', 'E', 'D', 'A', 'B'] | Total Jarak: 25.35\n",
            "Generasi 95: ['C', 'E', 'D', 'A', 'B'] | Total Jarak: 25.35\n",
            "Generasi 96: ['E', 'D', 'C', 'A', 'B'] | Total Jarak: 25.49\n",
            "Generasi 97: ['A', 'C', 'E', 'D', 'B'] | Total Jarak: 22.35\n",
            "Generasi 98: ['C', 'E', 'D', 'B', 'A'] | Total Jarak: 22.35\n",
            "Generasi 99: ['A', 'C', 'E', 'D', 'B'] | Total Jarak: 22.35\n",
            "Generasi 100: ['B', 'A', 'C', 'E', 'D'] | Total Jarak: 22.35\n",
            "\n",
            "Rute Optimal:\n",
            "B → A → C → E → D → B\n",
            "Total Jarak: 22.35\n"
          ]
        }
      ]
    },
    {
      "cell_type": "code",
      "source": [],
      "metadata": {
        "id": "iwxAf3Lr1HB3"
      },
      "execution_count": null,
      "outputs": []
    }
  ]
}