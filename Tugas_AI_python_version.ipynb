{
  "nbformat": 4,
  "nbformat_minor": 0,
  "metadata": {
    "colab": {
      "provenance": []
    },
    "kernelspec": {
      "name": "python3",
      "display_name": "Python 3"
    },
    "language_info": {
      "name": "python"
    }
  },
  "cells": [
    {
      "cell_type": "markdown",
      "source": [
        "**TEGAR MAULANA PUTRA**\n",
        "\n",
        "---\n",
        "\n",
        "**20230040336**\n",
        "\n",
        "---\n",
        "\n",
        "**TI23E**\n"
      ],
      "metadata": {
        "id": "oE9XDyWF5HrJ"
      }
    },
    {
      "cell_type": "code",
      "execution_count": 1,
      "metadata": {
        "id": "wwsKs4FN5Biv"
      },
      "outputs": [],
      "source": [
        "import random\n",
        "import math\n",
        "import matplotlib.pyplot as plt"
      ]
    },
    {
      "cell_type": "code",
      "source": [
        "# Data kota dan koordinat (X, Y)\n",
        "cities = {\n",
        "    'A': (2, 3),\n",
        "    'B': (5, 8),\n",
        "    'C': (6, 3),\n",
        "    'D': (8, 6),\n",
        "    'E': (1, 7)\n",
        "}\n",
        "city_names = list(cities.keys())"
      ],
      "metadata": {
        "id": "j5I0ymvG5LBv"
      },
      "execution_count": 2,
      "outputs": []
    },
    {
      "cell_type": "code",
      "source": [
        "# Fungsi menghitung jarak dua kota\n",
        "def distance(city1, city2):\n",
        "    x1, y1 = cities[city1]\n",
        "    x2, y2 = cities[city2]\n",
        "    return math.sqrt((x1 - x2)**2 + (y1 - y2)**2)"
      ],
      "metadata": {
        "id": "0NtsAvUP5LFH"
      },
      "execution_count": 3,
      "outputs": []
    },
    {
      "cell_type": "code",
      "source": [
        "# Membuat individu (solusi): urutan kunjungan kota\n",
        "def create_individual():\n",
        "    path = city_names[:]\n",
        "    random.shuffle(path)\n",
        "    return path"
      ],
      "metadata": {
        "id": "pEu65Na35LH_"
      },
      "execution_count": 4,
      "outputs": []
    },
    {
      "cell_type": "code",
      "source": [
        "# Fungsi fitness: total jarak rute (termasuk kembali ke kota awal)\n",
        "def fitness(individual):\n",
        "    dist = 0\n",
        "    for i in range(len(individual)):\n",
        "        city_from = individual[i]\n",
        "        city_to = individual[(i + 1) % len(individual)]  # kembali ke awal\n",
        "        dist += distance(city_from, city_to)\n",
        "    return dist"
      ],
      "metadata": {
        "id": "BusZzlp95LKv"
      },
      "execution_count": 5,
      "outputs": []
    },
    {
      "cell_type": "code",
      "source": [
        "# Seleksi dua terbaik\n",
        "def selection(population):\n",
        "    return sorted(population, key=lambda x: fitness(x))[:2]"
      ],
      "metadata": {
        "id": "9gc_i8YG5LNw"
      },
      "execution_count": 6,
      "outputs": []
    },
    {
      "cell_type": "code",
      "source": [
        "# Crossover: Order Crossover (OX)\n",
        "def crossover(p1, p2):\n",
        "    start, end = sorted(random.sample(range(len(p1)), 2))\n",
        "    slice1 = p1[start:end]\n",
        "    child1 = slice1 + [c for c in p2 if c not in slice1]\n",
        "    slice2 = p2[start:end]\n",
        "    child2 = slice2 + [c for c in p1 if c not in slice2]\n",
        "    return child1, child2"
      ],
      "metadata": {
        "id": "9xMfftKV5LQp"
      },
      "execution_count": 7,
      "outputs": []
    },
    {
      "cell_type": "code",
      "source": [
        "# Mutasi: tukar dua posisi\n",
        "def mutate(individual):\n",
        "    i, j = random.sample(range(len(individual)), 2)\n",
        "    individual[i], individual[j] = individual[j], individual[i]\n",
        "    return individual"
      ],
      "metadata": {
        "id": "7yoQwWnX5LTn"
      },
      "execution_count": 8,
      "outputs": []
    },
    {
      "cell_type": "code",
      "source": [
        "# Visualisasi rute\n",
        "def plot_route(route, generation):\n",
        "    plt.figure(figsize=(6, 5))\n",
        "    x = [cities[city][0] for city in route + [route[0]]]\n",
        "    y = [cities[city][1] for city in route + [route[0]]]\n",
        "    plt.plot(x, y, marker='o', linestyle='-')\n",
        "    for city in route:\n",
        "        plt.text(cities[city][0], cities[city][1], city, fontsize=12, ha='right')\n",
        "    plt.title(f'Rute Terbaik - Generasi {generation}')\n",
        "    plt.xlabel('X')\n",
        "    plt.ylabel('Y')\n",
        "    plt.grid(True)\n",
        "    plt.show()"
      ],
      "metadata": {
        "id": "LoBYK2iu5LWf"
      },
      "execution_count": 9,
      "outputs": []
    },
    {
      "cell_type": "code",
      "source": [
        "# Algoritma Genetika\n",
        "def genetic_algorithm():\n",
        "    population_size = 10\n",
        "    generations = 50\n",
        "    population = [create_individual() for _ in range(population_size)]\n",
        "\n",
        "    best_individual = min(population, key=lambda ind: fitness(ind))\n",
        "    best_fitness = fitness(best_individual)\n",
        "\n",
        "    for gen in range(1, generations + 1):\n",
        "        new_population = []\n",
        "        for _ in range(population_size // 2):\n",
        "            p1, p2 = selection(population)\n",
        "            c1, c2 = crossover(p1, p2)\n",
        "            new_population.extend([mutate(c1), mutate(c2)])\n",
        "        population = new_population\n",
        "        current_best = min(population, key=lambda ind: fitness(ind))\n",
        "        if fitness(current_best) < best_fitness:\n",
        "            best_individual = current_best\n",
        "            best_fitness = fitness(current_best)\n",
        "        print(f\"Generasi {gen}: {best_individual} | Jarak: {best_fitness:.2f}\")\n",
        "\n",
        "    print(\"\\nRute Terbaik:\")\n",
        "    print(\" → \".join(best_individual + [best_individual[0]]))\n",
        "    print(f\"Total Jarak: {best_fitness:.2f}\")\n",
        "    plot_route(best_individual, gen)"
      ],
      "metadata": {
        "id": "UJ5ks1Oi5LZg"
      },
      "execution_count": 10,
      "outputs": []
    },
    {
      "cell_type": "code",
      "source": [
        "genetic_algorithm()"
      ],
      "metadata": {
        "colab": {
          "base_uri": "https://localhost:8080/",
          "height": 1000
        },
        "id": "au_JUval5Lcf",
        "outputId": "77ea5675-d99a-4128-8d49-d67b6c2b62dc"
      },
      "execution_count": 11,
      "outputs": [
        {
          "output_type": "stream",
          "name": "stdout",
          "text": [
            "Generasi 1: ['D', 'B', 'A', 'E', 'C'] | Jarak: 23.57\n",
            "Generasi 2: ['D', 'B', 'A', 'E', 'C'] | Jarak: 23.57\n",
            "Generasi 3: ['B', 'E', 'A', 'C', 'D'] | Jarak: 19.46\n",
            "Generasi 4: ['B', 'E', 'A', 'C', 'D'] | Jarak: 19.46\n",
            "Generasi 5: ['B', 'E', 'A', 'C', 'D'] | Jarak: 19.46\n",
            "Generasi 6: ['B', 'E', 'A', 'C', 'D'] | Jarak: 19.46\n",
            "Generasi 7: ['B', 'E', 'A', 'C', 'D'] | Jarak: 19.46\n",
            "Generasi 8: ['B', 'E', 'A', 'C', 'D'] | Jarak: 19.46\n",
            "Generasi 9: ['B', 'E', 'A', 'C', 'D'] | Jarak: 19.46\n",
            "Generasi 10: ['B', 'E', 'A', 'C', 'D'] | Jarak: 19.46\n",
            "Generasi 11: ['B', 'E', 'A', 'C', 'D'] | Jarak: 19.46\n",
            "Generasi 12: ['B', 'E', 'A', 'C', 'D'] | Jarak: 19.46\n",
            "Generasi 13: ['B', 'E', 'A', 'C', 'D'] | Jarak: 19.46\n",
            "Generasi 14: ['B', 'E', 'A', 'C', 'D'] | Jarak: 19.46\n",
            "Generasi 15: ['B', 'E', 'A', 'C', 'D'] | Jarak: 19.46\n",
            "Generasi 16: ['B', 'E', 'A', 'C', 'D'] | Jarak: 19.46\n",
            "Generasi 17: ['B', 'E', 'A', 'C', 'D'] | Jarak: 19.46\n",
            "Generasi 18: ['B', 'E', 'A', 'C', 'D'] | Jarak: 19.46\n",
            "Generasi 19: ['B', 'E', 'A', 'C', 'D'] | Jarak: 19.46\n",
            "Generasi 20: ['B', 'E', 'A', 'C', 'D'] | Jarak: 19.46\n",
            "Generasi 21: ['B', 'E', 'A', 'C', 'D'] | Jarak: 19.46\n",
            "Generasi 22: ['B', 'E', 'A', 'C', 'D'] | Jarak: 19.46\n",
            "Generasi 23: ['B', 'E', 'A', 'C', 'D'] | Jarak: 19.46\n",
            "Generasi 24: ['B', 'E', 'A', 'C', 'D'] | Jarak: 19.46\n",
            "Generasi 25: ['B', 'E', 'A', 'C', 'D'] | Jarak: 19.46\n",
            "Generasi 26: ['B', 'E', 'A', 'C', 'D'] | Jarak: 19.46\n",
            "Generasi 27: ['B', 'E', 'A', 'C', 'D'] | Jarak: 19.46\n",
            "Generasi 28: ['B', 'E', 'A', 'C', 'D'] | Jarak: 19.46\n",
            "Generasi 29: ['B', 'E', 'A', 'C', 'D'] | Jarak: 19.46\n",
            "Generasi 30: ['B', 'E', 'A', 'C', 'D'] | Jarak: 19.46\n",
            "Generasi 31: ['B', 'E', 'A', 'C', 'D'] | Jarak: 19.46\n",
            "Generasi 32: ['B', 'E', 'A', 'C', 'D'] | Jarak: 19.46\n",
            "Generasi 33: ['B', 'E', 'A', 'C', 'D'] | Jarak: 19.46\n",
            "Generasi 34: ['B', 'E', 'A', 'C', 'D'] | Jarak: 19.46\n",
            "Generasi 35: ['B', 'E', 'A', 'C', 'D'] | Jarak: 19.46\n",
            "Generasi 36: ['B', 'E', 'A', 'C', 'D'] | Jarak: 19.46\n",
            "Generasi 37: ['B', 'E', 'A', 'C', 'D'] | Jarak: 19.46\n",
            "Generasi 38: ['B', 'E', 'A', 'C', 'D'] | Jarak: 19.46\n",
            "Generasi 39: ['B', 'E', 'A', 'C', 'D'] | Jarak: 19.46\n",
            "Generasi 40: ['B', 'E', 'A', 'C', 'D'] | Jarak: 19.46\n",
            "Generasi 41: ['B', 'E', 'A', 'C', 'D'] | Jarak: 19.46\n",
            "Generasi 42: ['B', 'E', 'A', 'C', 'D'] | Jarak: 19.46\n",
            "Generasi 43: ['B', 'E', 'A', 'C', 'D'] | Jarak: 19.46\n",
            "Generasi 44: ['B', 'E', 'A', 'C', 'D'] | Jarak: 19.46\n",
            "Generasi 45: ['B', 'E', 'A', 'C', 'D'] | Jarak: 19.46\n",
            "Generasi 46: ['B', 'E', 'A', 'C', 'D'] | Jarak: 19.46\n",
            "Generasi 47: ['B', 'E', 'A', 'C', 'D'] | Jarak: 19.46\n",
            "Generasi 48: ['B', 'E', 'A', 'C', 'D'] | Jarak: 19.46\n",
            "Generasi 49: ['B', 'E', 'A', 'C', 'D'] | Jarak: 19.46\n",
            "Generasi 50: ['B', 'E', 'A', 'C', 'D'] | Jarak: 19.46\n",
            "\n",
            "Rute Terbaik:\n",
            "B → E → A → C → D → B\n",
            "Total Jarak: 19.46\n"
          ]
        },
        {
          "output_type": "display_data",
          "data": {
            "text/plain": [
              "<Figure size 600x500 with 1 Axes>"
            ],
            "image/png": "[encoded data removed]"
          },
          "metadata": {}
        }
      ]
    }
  ]
}